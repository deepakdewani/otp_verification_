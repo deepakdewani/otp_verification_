{
  "nbformat": 4,
  "nbformat_minor": 0,
  "metadata": {
    "colab": {
      "name": "otp_verification.ipynb",
      "provenance": []
    },
    "kernelspec": {
      "name": "python3",
      "display_name": "Python 3"
    },
    "language_info": {
      "name": "python"
    }
  },
  "cells": [
    {
      "cell_type": "code",
      "execution_count": null,
      "metadata": {
        "id": "XqqJtXetG-yh"
      },
      "outputs": [],
      "source": [
        "import os\n",
        "import math\n",
        "import smtplib\n",
        "import random\n",
        "\n",
        "digits='0123456789'\n",
        "OTP=\"\"\n",
        "for i in range(6):\n",
        "  OTP=OTP+digits[math.floor(random.random()*10)]\n",
        "otp= OTP + \" is your OTP\"\n",
        "msg= otp\n",
        "s = smtplib.SMTP('smtp.gmail.com', 587)\n",
        "s.starttls()\n",
        "s.login(\"Your name\", \"Your gmail password\")\n",
        "emailid = input(\"Enter your email: \")\n",
        "s.sendmail('&&&&&&&&&&&',emailid,msg)\n",
        "a = input(\"Enter Your OTP >>: \")\n",
        "if a == OTP:\n",
        "    print(\"Verified\")\n",
        "else:\n",
        "    print(\"Please Check your OTP again\")"
      ]
    },
    {
      "cell_type": "code",
      "source": [
        ""
      ],
      "metadata": {
        "id": "P6f_rpsjO4vE"
      },
      "execution_count": null,
      "outputs": []
    }
  ]
}